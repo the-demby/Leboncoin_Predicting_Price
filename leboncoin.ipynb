{
 "cells": [
  {
   "cell_type": "markdown",
   "metadata": {},
   "source": [
    "# Data Cleaning"
   ]
  },
  {
   "cell_type": "markdown",
   "metadata": {},
   "source": [
    "### Load dataset and check "
   ]
  },
  {
   "cell_type": "code",
   "execution_count": 1,
   "metadata": {},
   "outputs": [],
   "source": [
    "import pandas as pd\n",
    "import json\n",
    "import numpy as np\n",
    "import math"
   ]
  },
  {
   "cell_type": "code",
   "execution_count": 2,
   "metadata": {},
   "outputs": [
    {
     "data": {
      "text/html": [
       "<div>\n",
       "<style scoped>\n",
       "    .dataframe tbody tr th:only-of-type {\n",
       "        vertical-align: middle;\n",
       "    }\n",
       "\n",
       "    .dataframe tbody tr th {\n",
       "        vertical-align: top;\n",
       "    }\n",
       "\n",
       "    .dataframe thead th {\n",
       "        text-align: right;\n",
       "    }\n",
       "</style>\n",
       "<table border=\"1\" class=\"dataframe\">\n",
       "  <thead>\n",
       "    <tr style=\"text-align: right;\">\n",
       "      <th></th>\n",
       "      <th>list_id</th>\n",
       "      <th>first_publication_date</th>\n",
       "      <th>expiration_date</th>\n",
       "      <th>index_date</th>\n",
       "      <th>status</th>\n",
       "      <th>category_id</th>\n",
       "      <th>category_name</th>\n",
       "      <th>subject</th>\n",
       "      <th>body</th>\n",
       "      <th>brand</th>\n",
       "      <th>...</th>\n",
       "      <th>price_cents</th>\n",
       "      <th>images</th>\n",
       "      <th>attributes</th>\n",
       "      <th>location</th>\n",
       "      <th>owner</th>\n",
       "      <th>options</th>\n",
       "      <th>has_phone</th>\n",
       "      <th>similar</th>\n",
       "      <th>counters</th>\n",
       "      <th>is_boosted</th>\n",
       "    </tr>\n",
       "  </thead>\n",
       "  <tbody>\n",
       "    <tr>\n",
       "      <th>0</th>\n",
       "      <td>2909625822</td>\n",
       "      <td>2024-12-28 12:58:33</td>\n",
       "      <td>2025-02-26 12:58:33</td>\n",
       "      <td>2024-12-28 12:58:33</td>\n",
       "      <td>active</td>\n",
       "      <td>2</td>\n",
       "      <td>Voitures</td>\n",
       "      <td>Renault Mégane 3 1.5 Dci 105cv tomtom édition</td>\n",
       "      <td></td>\n",
       "      <td>leboncoin</td>\n",
       "      <td>...</td>\n",
       "      <td>350000</td>\n",
       "      <td>{'thumb_url': 'https://img.leboncoin.fr/api/v1...</td>\n",
       "      <td>[{'key': 'profile_picture_url', 'value': 'http...</td>\n",
       "      <td>{'country_id': 'FR', 'region_id': '16', 'regio...</td>\n",
       "      <td>{'store_id': '15939704', 'user_id': '7775eb0a-...</td>\n",
       "      <td>{'has_option': False, 'booster': False, 'photo...</td>\n",
       "      <td>True</td>\n",
       "      <td>NaN</td>\n",
       "      <td>{}</td>\n",
       "      <td>NaN</td>\n",
       "    </tr>\n",
       "    <tr>\n",
       "      <th>1</th>\n",
       "      <td>2909625799</td>\n",
       "      <td>2024-12-28 12:58:33</td>\n",
       "      <td>2025-02-26 12:58:33</td>\n",
       "      <td>2024-12-28 12:58:33</td>\n",
       "      <td>active</td>\n",
       "      <td>2</td>\n",
       "      <td>Voitures</td>\n",
       "      <td>Hyundai i20</td>\n",
       "      <td></td>\n",
       "      <td>leboncoin</td>\n",
       "      <td>...</td>\n",
       "      <td>1070000</td>\n",
       "      <td>{'thumb_url': 'https://img.leboncoin.fr/api/v1...</td>\n",
       "      <td>[{'key': 'rating_score', 'value': '1', 'values...</td>\n",
       "      <td>{'country_id': 'FR', 'region_id': '18', 'regio...</td>\n",
       "      <td>{'store_id': '49507330', 'user_id': 'eb077456-...</td>\n",
       "      <td>{'has_option': False, 'booster': False, 'photo...</td>\n",
       "      <td>False</td>\n",
       "      <td>NaN</td>\n",
       "      <td>{}</td>\n",
       "      <td>NaN</td>\n",
       "    </tr>\n",
       "    <tr>\n",
       "      <th>2</th>\n",
       "      <td>2909625761</td>\n",
       "      <td>2024-12-28 12:58:28</td>\n",
       "      <td>2025-02-26 12:58:28</td>\n",
       "      <td>2024-12-28 12:58:28</td>\n",
       "      <td>active</td>\n",
       "      <td>2</td>\n",
       "      <td>Voitures</td>\n",
       "      <td>Nissan Pixo</td>\n",
       "      <td></td>\n",
       "      <td>leboncoin</td>\n",
       "      <td>...</td>\n",
       "      <td>299000</td>\n",
       "      <td>{'thumb_url': 'https://img.leboncoin.fr/api/v1...</td>\n",
       "      <td>[{'key': 'profile_picture_url', 'value': 'http...</td>\n",
       "      <td>{'country_id': 'FR', 'region_id': '21', 'regio...</td>\n",
       "      <td>{'store_id': '62118662', 'user_id': '4c3349cf-...</td>\n",
       "      <td>{'has_option': False, 'booster': False, 'photo...</td>\n",
       "      <td>False</td>\n",
       "      <td>NaN</td>\n",
       "      <td>{}</td>\n",
       "      <td>NaN</td>\n",
       "    </tr>\n",
       "    <tr>\n",
       "      <th>3</th>\n",
       "      <td>2909625747</td>\n",
       "      <td>2024-12-28 12:58:28</td>\n",
       "      <td>2025-02-26 12:58:28</td>\n",
       "      <td>2024-12-28 12:58:28</td>\n",
       "      <td>active</td>\n",
       "      <td>2</td>\n",
       "      <td>Voitures</td>\n",
       "      <td>Vends Nissan Qashqai Blue Connect Edition</td>\n",
       "      <td></td>\n",
       "      <td>leboncoin</td>\n",
       "      <td>...</td>\n",
       "      <td>1100000</td>\n",
       "      <td>{'thumb_url': 'https://img.leboncoin.fr/api/v1...</td>\n",
       "      <td>[{'key': 'profile_picture_url', 'value': 'http...</td>\n",
       "      <td>{'country_id': 'FR', 'region_id': '21', 'regio...</td>\n",
       "      <td>{'store_id': '26209241', 'user_id': 'cec7b0a3-...</td>\n",
       "      <td>{'has_option': False, 'booster': False, 'photo...</td>\n",
       "      <td>False</td>\n",
       "      <td>NaN</td>\n",
       "      <td>{}</td>\n",
       "      <td>NaN</td>\n",
       "    </tr>\n",
       "    <tr>\n",
       "      <th>4</th>\n",
       "      <td>2909625688</td>\n",
       "      <td>2024-12-28 12:58:28</td>\n",
       "      <td>2025-02-26 12:58:28</td>\n",
       "      <td>2024-12-28 12:58:28</td>\n",
       "      <td>active</td>\n",
       "      <td>2</td>\n",
       "      <td>Voitures</td>\n",
       "      <td>Laguna III GT 4control</td>\n",
       "      <td></td>\n",
       "      <td>leboncoin</td>\n",
       "      <td>...</td>\n",
       "      <td>940000</td>\n",
       "      <td>{'thumb_url': 'https://img.leboncoin.fr/api/v1...</td>\n",
       "      <td>[{'key': 'rating_score', 'value': '0.98', 'val...</td>\n",
       "      <td>{'country_id': 'FR', 'region_id': '11', 'regio...</td>\n",
       "      <td>{'store_id': '19468680', 'user_id': '40ac2869-...</td>\n",
       "      <td>{'has_option': False, 'booster': False, 'photo...</td>\n",
       "      <td>False</td>\n",
       "      <td>NaN</td>\n",
       "      <td>{}</td>\n",
       "      <td>NaN</td>\n",
       "    </tr>\n",
       "  </tbody>\n",
       "</table>\n",
       "<p>5 rows × 23 columns</p>\n",
       "</div>"
      ],
      "text/plain": [
       "      list_id first_publication_date      expiration_date  \\\n",
       "0  2909625822    2024-12-28 12:58:33  2025-02-26 12:58:33   \n",
       "1  2909625799    2024-12-28 12:58:33  2025-02-26 12:58:33   \n",
       "2  2909625761    2024-12-28 12:58:28  2025-02-26 12:58:28   \n",
       "3  2909625747    2024-12-28 12:58:28  2025-02-26 12:58:28   \n",
       "4  2909625688    2024-12-28 12:58:28  2025-02-26 12:58:28   \n",
       "\n",
       "            index_date  status  category_id category_name  \\\n",
       "0  2024-12-28 12:58:33  active            2      Voitures   \n",
       "1  2024-12-28 12:58:33  active            2      Voitures   \n",
       "2  2024-12-28 12:58:28  active            2      Voitures   \n",
       "3  2024-12-28 12:58:28  active            2      Voitures   \n",
       "4  2024-12-28 12:58:28  active            2      Voitures   \n",
       "\n",
       "                                         subject body      brand  ...  \\\n",
       "0  Renault Mégane 3 1.5 Dci 105cv tomtom édition       leboncoin  ...   \n",
       "1                                    Hyundai i20       leboncoin  ...   \n",
       "2                                    Nissan Pixo       leboncoin  ...   \n",
       "3      Vends Nissan Qashqai Blue Connect Edition       leboncoin  ...   \n",
       "4                         Laguna III GT 4control       leboncoin  ...   \n",
       "\n",
       "  price_cents                                             images  \\\n",
       "0      350000  {'thumb_url': 'https://img.leboncoin.fr/api/v1...   \n",
       "1     1070000  {'thumb_url': 'https://img.leboncoin.fr/api/v1...   \n",
       "2      299000  {'thumb_url': 'https://img.leboncoin.fr/api/v1...   \n",
       "3     1100000  {'thumb_url': 'https://img.leboncoin.fr/api/v1...   \n",
       "4      940000  {'thumb_url': 'https://img.leboncoin.fr/api/v1...   \n",
       "\n",
       "                                          attributes  \\\n",
       "0  [{'key': 'profile_picture_url', 'value': 'http...   \n",
       "1  [{'key': 'rating_score', 'value': '1', 'values...   \n",
       "2  [{'key': 'profile_picture_url', 'value': 'http...   \n",
       "3  [{'key': 'profile_picture_url', 'value': 'http...   \n",
       "4  [{'key': 'rating_score', 'value': '0.98', 'val...   \n",
       "\n",
       "                                            location  \\\n",
       "0  {'country_id': 'FR', 'region_id': '16', 'regio...   \n",
       "1  {'country_id': 'FR', 'region_id': '18', 'regio...   \n",
       "2  {'country_id': 'FR', 'region_id': '21', 'regio...   \n",
       "3  {'country_id': 'FR', 'region_id': '21', 'regio...   \n",
       "4  {'country_id': 'FR', 'region_id': '11', 'regio...   \n",
       "\n",
       "                                               owner  \\\n",
       "0  {'store_id': '15939704', 'user_id': '7775eb0a-...   \n",
       "1  {'store_id': '49507330', 'user_id': 'eb077456-...   \n",
       "2  {'store_id': '62118662', 'user_id': '4c3349cf-...   \n",
       "3  {'store_id': '26209241', 'user_id': 'cec7b0a3-...   \n",
       "4  {'store_id': '19468680', 'user_id': '40ac2869-...   \n",
       "\n",
       "                                             options has_phone similar  \\\n",
       "0  {'has_option': False, 'booster': False, 'photo...      True     NaN   \n",
       "1  {'has_option': False, 'booster': False, 'photo...     False     NaN   \n",
       "2  {'has_option': False, 'booster': False, 'photo...     False     NaN   \n",
       "3  {'has_option': False, 'booster': False, 'photo...     False     NaN   \n",
       "4  {'has_option': False, 'booster': False, 'photo...     False     NaN   \n",
       "\n",
       "  counters  is_boosted  \n",
       "0       {}         NaN  \n",
       "1       {}         NaN  \n",
       "2       {}         NaN  \n",
       "3       {}         NaN  \n",
       "4       {}         NaN  \n",
       "\n",
       "[5 rows x 23 columns]"
      ]
     },
     "execution_count": 2,
     "metadata": {},
     "output_type": "execute_result"
    }
   ],
   "source": [
    "leboncoin_ads=pd.read_json(\"C:/Users/Annek/Documents/semestre 1/ML avec python/leboncoin/Leboncoin_Predicting_Price/leboncoin_ads.json\")\n",
    "leboncoin_ads.head()"
   ]
  },
  {
   "cell_type": "code",
   "execution_count": 3,
   "metadata": {},
   "outputs": [
    {
     "data": {
      "text/plain": [
       "(35, 23)"
      ]
     },
     "execution_count": 3,
     "metadata": {},
     "output_type": "execute_result"
    }
   ],
   "source": [
    "leboncoin_ads.shape"
   ]
  },
  {
   "cell_type": "code",
   "execution_count": 4,
   "metadata": {},
   "outputs": [
    {
     "data": {
      "text/plain": [
       "Index(['list_id', 'first_publication_date', 'expiration_date', 'index_date',\n",
       "       'status', 'category_id', 'category_name', 'subject', 'body', 'brand',\n",
       "       'ad_type', 'url', 'price', 'price_cents', 'images', 'attributes',\n",
       "       'location', 'owner', 'options', 'has_phone', 'similar', 'counters',\n",
       "       'is_boosted'],\n",
       "      dtype='object')"
      ]
     },
     "execution_count": 4,
     "metadata": {},
     "output_type": "execute_result"
    }
   ],
   "source": [
    "leboncoin_ads.columns"
   ]
  },
  {
   "cell_type": "code",
   "execution_count": 5,
   "metadata": {},
   "outputs": [
    {
     "name": "stdout",
     "output_type": "stream",
     "text": [
      "list_id  :  35\n",
      "first_publication_date  :  24\n",
      "expiration_date  :  24\n",
      "index_date  :  14\n",
      "status  :  1\n",
      "category_id  :  1\n",
      "category_name  :  1\n",
      "subject  :  34\n",
      "body  :  1\n",
      "brand  :  1\n",
      "ad_type  :  1\n",
      "url  :  35\n",
      "price Error: unhashable type: 'list'\n",
      "price_cents  :  34\n",
      "images Error: unhashable type: 'dict'\n",
      "attributes Error: unhashable type: 'list'\n",
      "location Error: unhashable type: 'dict'\n",
      "owner Error: unhashable type: 'dict'\n",
      "options Error: unhashable type: 'dict'\n",
      "has_phone  :  2\n",
      "similar  :  35\n",
      "counters Error: unhashable type: 'dict'\n",
      "is_boosted  :  25\n"
     ]
    }
   ],
   "source": [
    "#compter le nombre de modalités par column\n",
    "for column_name in leboncoin_ads.columns:\n",
    "    try:\n",
    "        print(column_name,\" : \",len(set(leboncoin_ads[column_name])))\n",
    "    except TypeError as e:\n",
    "        print(column_name, f\"Error: {e}\")\n",
    "        pass"
   ]
  },
  {
   "cell_type": "markdown",
   "metadata": {},
   "source": [
    "### Clean columns"
   ]
  },
  {
   "cell_type": "markdown",
   "metadata": {},
   "source": [
    "First selection of variables"
   ]
  },
  {
   "cell_type": "code",
   "execution_count": 6,
   "metadata": {},
   "outputs": [],
   "source": [
    "\n",
    "#Sélectionner variables pertinentes:\n",
    "# - Index_date=first_publication_date (retirer doublons)\n",
    "# - Retirer variables avec une seule modalité\n",
    "# - Retirer \"subject\" car les infos sont déjà présentes dans \"attributes\"\n",
    "# -\"similar\" ne contient que des NaN\n",
    "# -\"counters\" ne contient que des dictionnaires vides\n",
    "# -retirer url de l'annonce\n",
    "# -price_cents=price*100\n",
    "leboncoin_ads_filtered=leboncoin_ads[['list_id', 'first_publication_date', 'expiration_date', \n",
    "       'ad_type', 'price', 'images', 'attributes',\n",
    "       'location', 'owner', 'options', 'has_phone',\n",
    "       'is_boosted']]"
   ]
  },
  {
   "cell_type": "markdown",
   "metadata": {},
   "source": [
    "Handling variables containing lists and dictionnairies"
   ]
  },
  {
   "cell_type": "code",
   "execution_count": 7,
   "metadata": {},
   "outputs": [],
   "source": [
    "#Price: retrieve value from the list\n",
    "leboncoin_ads_filtered.loc[:, \"price\"]=leboncoin_ads_filtered[\"price\"].apply(lambda prix: prix[0])"
   ]
  },
  {
   "cell_type": "code",
   "execution_count": 8,
   "metadata": {},
   "outputs": [],
   "source": [
    "#Shatter attributes:\n",
    "ploo=pd.DataFrame()\n",
    "attributs=pd.DataFrame()\n",
    "for row_num in range( leboncoin_ads_filtered.shape[0]):\n",
    "    ploo_col=pd.DataFrame()\n",
    "    for column_name in [\"location\",'owner','options']:\n",
    "    # Extract 'attributes' column as a DataFrame\n",
    "        temporary_df=pd.DataFrame(leboncoin_ads_filtered.loc[row_num,column_name].items()).set_index(0).transpose()\n",
    "        ploo_col = pd.concat([ploo_col,temporary_df],axis=1)\n",
    "        ploo_col[\"list_id\"]=leboncoin_ads_filtered.loc[row_num,\"list_id\"]\n",
    "    ploo=pd.concat([ploo,ploo_col],axis=0,ignore_index=True)\n",
    "    temporary_df=pd.DataFrame(leboncoin_ads_filtered.loc[row_num,\"attributes\"]).set_index(\"key\").transpose()\n",
    "    temporary_df=temporary_df[temporary_df.index==\"value_label\"]\n",
    "    temporary_df[\"list_id\"]=leboncoin_ads_filtered.loc[row_num,\"list_id\"]\n",
    "    attributs=pd.concat([attributs,temporary_df],axis=0,ignore_index=True)\n",
    "leboncoin_ads_filtered_extended=leboncoin_ads_filtered.merge(pd.concat([attributs,ploo],axis=1).T.reset_index().drop_duplicates(subset=[\"index\"]).set_index('index').T,\n",
    "                                                             how='outer',on='list_id')\n"
   ]
  },
  {
   "cell_type": "code",
   "execution_count": 9,
   "metadata": {},
   "outputs": [
    {
     "name": "stdout",
     "output_type": "stream",
     "text": [
      "Taille: (35, 81) \n",
      "columns:  Index(['list_id', 'first_publication_date', 'expiration_date', 'ad_type',\n",
      "       'price', 'images', 'attributes', 'location', 'owner', 'options',\n",
      "       'has_phone', 'is_boosted', 'profile_picture_url', 'brand', 'model',\n",
      "       'u_car_brand', 'u_car_model', 'regdate', 'mileage', 'fuel', 'gearbox',\n",
      "       'doors', 'seats', 'vehicle_technical_inspection_a', 'issuance_date',\n",
      "       'vehicle_damage', 'vehicle_type', 'vehicle_upholstery',\n",
      "       'vehicle_specifications', 'vehicle_interior_specs', 'vehicule_color',\n",
      "       'critair', 'horsepower', 'horse_power_din', 'vehicle_vsp', 'is_import',\n",
      "       'vehicle_is_eligible_p2p', 'car_rotation_delay', 'argus_object_id',\n",
      "       'licence_plate_available', 'rating_score', 'rating_count',\n",
      "       'ad_warranty_type', 'car_price_min', 'car_price_max',\n",
      "       'vehicle_history_report_public_url', 'vehicle_euro_emissions_standard',\n",
      "       'activity_sector', 'recent_used_vehicle',\n",
      "       'vehicle_history_report_status', 'spare_parts_availability',\n",
      "       'car_contract', 'old_price', 'country_id', 'region_id', 'region_name',\n",
      "       'department_id', 'department_name', 'city_label', 'city', 'zipcode',\n",
      "       'lat', 'lng', 'source', 'provider', 'is_shape', 'feature', 'store_id',\n",
      "       'user_id', 'type', 'name', 'no_salesmen', 'has_option', 'booster',\n",
      "       'photosup', 'urgent', 'gallery', 'sub_toplist', 'continuous_top_ads',\n",
      "       'highlight', 'siren'],\n",
      "      dtype='object')\n"
     ]
    }
   ],
   "source": [
    "print(\"Taille:\",leboncoin_ads_filtered_extended.shape,\"\\ncolumns: \",leboncoin_ads_filtered_extended.columns)"
   ]
  },
  {
   "cell_type": "markdown",
   "metadata": {},
   "source": [
    "Clean columns and some feature engineering"
   ]
  },
  {
   "cell_type": "code",
   "execution_count": 10,
   "metadata": {},
   "outputs": [],
   "source": [
    "#is_boosted : remplacer les NaN par 0\n",
    "leboncoin_ads_filtered_extended[\"is_boosted\"]=leboncoin_ads_filtered_extended[\"is_boosted\"].apply(lambda x: 0 if math.isnan(x) else x)\n",
    "cols=[\"images\",\"profile_picture_url\",\"vehicle_is_eligible_p2p\",\"car_rotation_delay\",\"licence_plate_available\",\n",
    "      \"vehicle_history_report_public_url\",\"vehicle_damage\",\"activity_sector\",\"vehicle_history_report_status\"]\n",
    "leboncoin_ads_filtered_extended[cols]=leboncoin_ads_filtered_extended[cols].apply(lambda col: col.map(lambda x: 0 if pd.isna(x) else 1))\n",
    "# convertir en numérique\n",
    "leboncoin_ads_filtered_extended[\"mileage\"]=leboncoin_ads_filtered_extended[\"mileage\"].apply(lambda x: float(x.split(\" km\")[0]))\n",
    "cols=['rating_score', 'car_price_min', 'car_price_max',\"old_price\",\"siren\"]\n",
    "leboncoin_ads_filtered_extended[cols]=leboncoin_ads_filtered_extended[cols].apply(lambda col: col.map(lambda x: float(x) if pd.notna(x) else np.nan))\n",
    "#replace Nan par \"non spécifé\"\n",
    "cols=[\"doors\",\"seats\",\"vehicle_technical_inspection_a\",\"vehicle_type\",\"vehicle_upholstery\",\"vehicle_specifications\",\n",
    "      \"vehicule_color\",\"critair\",\"horsepower\",\"horse_power_din\",\"ad_warranty_type\",\"recent_used_vehicle\",\"vehicle_history_report_status\",\n",
    "        \"spare_parts_availability\",\"vehicle_euro_emissions_standard\"]\n",
    "leboncoin_ads_filtered_extended[cols]=leboncoin_ads_filtered_extended[cols].apply(lambda col: col.map (lambda x: \"unknown\" if pd.isna(x) else x))\n",
    "leboncoin_ads_filtered_extended[\"vehicle_interior_specs\"]=leboncoin_ads_filtered_extended[\"vehicle_interior_specs\"].apply(lambda x: \"unknow interior\" if pd.isna(x) else x)\n",
    "#renommer certaines modalités:\n",
    "leboncoin_ads_filtered_extended[\"vehicle_interior_specs\"]=leboncoin_ads_filtered_extended[\"vehicle_interior_specs\"].apply(lambda l: [ \n",
    "        'Phares LED' if x == 'Phares LED / Xenon' \n",
    "        else 'Toit ouvrant' if x == 'Toit ouvrant / Toit panoramique' \n",
    "        else x\n",
    "        for x in l.split(\", \")] if isinstance(l,list) else l\n",
    ")"
   ]
  },
  {
   "cell_type": "code",
   "execution_count": 12,
   "metadata": {},
   "outputs": [],
   "source": [
    "#More shattering\n",
    "for spec in [\"Climatisation\", \"Toit ouvrant\",  \"Régulateur de vitesse\", \"Système de navigation\", \"Attelage de remorque\", \n",
    "             \"Aide au stationnement\", \"Jantes en alliage\", \"Bluetooth\", \"Phares LED\", \"Sièges chauffants\",\"unknow interior\"]:\n",
    "    leboncoin_ads_filtered_extended[spec]=leboncoin_ads_filtered_extended['vehicle_interior_specs'].apply(lambda x: 1 if spec in x else 0)"
   ]
  },
  {
   "cell_type": "code",
   "execution_count": 13,
   "metadata": {},
   "outputs": [],
   "source": [
    "# Enlever les variables contenant les dictionnaires\n",
    "leboncoin_ads_filtered_extended=leboncoin_ads_filtered_extended.drop(columns=[\"attributes\",\n",
    "                                                                              \"location\",\n",
    "                                                                              \"owner\",\n",
    "                                                                              \"options\",\"vehicle_interior_specs\"])\n",
    "#Enlever variables répétitives:\n",
    "leboncoin_ads_filtered_extended=leboncoin_ads_filtered_extended.drop(columns=[\"brand\",\n",
    "                                                                              \"model\",\n",
    "                                                                              \"rating_count\",\n",
    "                                                                              \"region_id\",\n",
    "                                                                              \"department_id\",\n",
    "                                                                              \"city_label\"\n",
    "                                                                            ])\n",
    "#Enlever variables non pertinentes:\n",
    "leboncoin_ads_filtered_extended=leboncoin_ads_filtered_extended.drop(columns=[\"images\",\n",
    "                                                                              \"argus_object_id\",\n",
    "                                                                              \"feature\"\n",
    "                                                                                ])\n",
    "#Enlever variables avec une seule modalité:\n",
    "leboncoin_ads_filtered_extended=leboncoin_ads_filtered_extended.drop(columns=[\"vehicle_vsp\",\n",
    "                                                                              \"is_import\",\n",
    "                                                                              \"country_id\",\n",
    "                                                                              \"provider\",\"booster\",\n",
    "                                                                              'photosup', 'urgent', 'gallery',\n",
    "                                                                              'continuous_top_ads','highlight'\n",
    "                                                                                ])"
   ]
  },
  {
   "cell_type": "markdown",
   "metadata": {},
   "source": [
    "Rename columns for clarity"
   ]
  },
  {
   "cell_type": "code",
   "execution_count": 21,
   "metadata": {},
   "outputs": [],
   "source": [
    "leboncoin_ads_filtered_extended=leboncoin_ads_filtered_extended.rename(columns={\"mileage\":\"mileage_km\",\n",
    "                                                                                \"horsepower\":\"horsepower_cv\"})"
   ]
  },
  {
   "cell_type": "code",
   "execution_count": 22,
   "metadata": {},
   "outputs": [
    {
     "name": "stdout",
     "output_type": "stream",
     "text": [
      "Taille: (35, 68) \n",
      "columns:  Index(['list_id', 'first_publication_date', 'expiration_date', 'ad_type',\n",
      "       'price', 'has_phone', 'is_boosted', 'profile_picture_url',\n",
      "       'u_car_brand', 'u_car_model', 'regdate', 'mileage_km', 'fuel',\n",
      "       'gearbox', 'doors', 'seats', 'vehicle_technical_inspection_a',\n",
      "       'issuance_date', 'vehicle_damage', 'vehicle_type', 'vehicle_upholstery',\n",
      "       'vehicle_specifications', 'vehicule_color', 'critair', 'horsepower_cv',\n",
      "       'horse_power_din', 'vehicle_is_eligible_p2p', 'car_rotation_delay',\n",
      "       'licence_plate_available', 'rating_score', 'ad_warranty_type',\n",
      "       'car_price_min', 'car_price_max', 'vehicle_history_report_public_url',\n",
      "       'vehicle_euro_emissions_standard', 'activity_sector',\n",
      "       'recent_used_vehicle', 'vehicle_history_report_status',\n",
      "       'spare_parts_availability', 'car_contract', 'old_price', 'region_name',\n",
      "       'department_name', 'city', 'zipcode', 'lat', 'lng', 'source',\n",
      "       'is_shape', 'store_id', 'user_id', 'type', 'name', 'no_salesmen',\n",
      "       'has_option', 'sub_toplist', 'siren', 'Climatisation', 'Toit ouvrant',\n",
      "       'Régulateur de vitesse', 'Système de navigation',\n",
      "       'Attelage de remorque', 'Aide au stationnement', 'Jantes en alliage',\n",
      "       'Bluetooth', 'Phares LED', 'Sièges chauffants', 'unknow interior'],\n",
      "      dtype='object')\n"
     ]
    }
   ],
   "source": [
    "print(\"Taille:\",leboncoin_ads_filtered_extended.shape,\"\\ncolumns: \",leboncoin_ads_filtered_extended.columns)"
   ]
  },
  {
   "cell_type": "code",
   "execution_count": null,
   "metadata": {},
   "outputs": [],
   "source": []
  }
 ],
 "metadata": {
  "kernelspec": {
   "display_name": "leboncoin_env",
   "language": "python",
   "name": "python3"
  },
  "language_info": {
   "codemirror_mode": {
    "name": "ipython",
    "version": 3
   },
   "file_extension": ".py",
   "mimetype": "text/x-python",
   "name": "python",
   "nbconvert_exporter": "python",
   "pygments_lexer": "ipython3",
   "version": "3.11.9"
  }
 },
 "nbformat": 4,
 "nbformat_minor": 2
}
